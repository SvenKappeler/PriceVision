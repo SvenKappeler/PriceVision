{
  "cells": [
    {
      "cell_type": "markdown",
      "metadata": {
        "id": "jGmEtZMqH0hn"
      },
      "source": [
        "#LSTM stock price prediction"
      ]
    },
    {
      "cell_type": "code",
      "execution_count": null,
      "metadata": {
        "id": "LFBMHyJn_0z7",
        "colab": {
          "base_uri": "https://localhost:8080/"
        },
        "outputId": "15fd4725-e3e3-4074-a967-80a30b54e044"
      },
      "outputs": [
        {
          "output_type": "stream",
          "name": "stdout",
          "text": [
            "Looking in indexes: https://pypi.org/simple, https://us-python.pkg.dev/colab-wheels/public/simple/\n",
            "Requirement already satisfied: yfinance in /usr/local/lib/python3.10/dist-packages (0.2.18)\n",
            "Requirement already satisfied: numpy>=1.16.5 in /usr/local/lib/python3.10/dist-packages (from yfinance) (1.22.4)\n",
            "Requirement already satisfied: pytz>=2022.5 in /usr/local/lib/python3.10/dist-packages (from yfinance) (2022.7.1)\n",
            "Requirement already satisfied: appdirs>=1.4.4 in /usr/local/lib/python3.10/dist-packages (from yfinance) (1.4.4)\n",
            "Requirement already satisfied: frozendict>=2.3.4 in /usr/local/lib/python3.10/dist-packages (from yfinance) (2.3.7)\n",
            "Requirement already satisfied: lxml>=4.9.1 in /usr/local/lib/python3.10/dist-packages (from yfinance) (4.9.2)\n",
            "Requirement already satisfied: multitasking>=0.0.7 in /usr/local/lib/python3.10/dist-packages (from yfinance) (0.0.11)\n",
            "Requirement already satisfied: beautifulsoup4>=4.11.1 in /usr/local/lib/python3.10/dist-packages (from yfinance) (4.11.2)\n",
            "Requirement already satisfied: html5lib>=1.1 in /usr/local/lib/python3.10/dist-packages (from yfinance) (1.1)\n",
            "Requirement already satisfied: requests>=2.26 in /usr/local/lib/python3.10/dist-packages (from yfinance) (2.27.1)\n",
            "Requirement already satisfied: pandas>=1.3.0 in /usr/local/lib/python3.10/dist-packages (from yfinance) (1.5.3)\n",
            "Requirement already satisfied: cryptography>=3.3.2 in /usr/local/lib/python3.10/dist-packages (from yfinance) (40.0.2)\n",
            "Requirement already satisfied: soupsieve>1.2 in /usr/local/lib/python3.10/dist-packages (from beautifulsoup4>=4.11.1->yfinance) (2.4.1)\n",
            "Requirement already satisfied: cffi>=1.12 in /usr/local/lib/python3.10/dist-packages (from cryptography>=3.3.2->yfinance) (1.15.1)\n",
            "Requirement already satisfied: six>=1.9 in /usr/local/lib/python3.10/dist-packages (from html5lib>=1.1->yfinance) (1.16.0)\n",
            "Requirement already satisfied: webencodings in /usr/local/lib/python3.10/dist-packages (from html5lib>=1.1->yfinance) (0.5.1)\n",
            "Requirement already satisfied: python-dateutil>=2.8.1 in /usr/local/lib/python3.10/dist-packages (from pandas>=1.3.0->yfinance) (2.8.2)\n",
            "Requirement already satisfied: urllib3<1.27,>=1.21.1 in /usr/local/lib/python3.10/dist-packages (from requests>=2.26->yfinance) (1.26.15)\n",
            "Requirement already satisfied: idna<4,>=2.5 in /usr/local/lib/python3.10/dist-packages (from requests>=2.26->yfinance) (3.4)\n",
            "Requirement already satisfied: charset-normalizer~=2.0.0 in /usr/local/lib/python3.10/dist-packages (from requests>=2.26->yfinance) (2.0.12)\n",
            "Requirement already satisfied: certifi>=2017.4.17 in /usr/local/lib/python3.10/dist-packages (from requests>=2.26->yfinance) (2022.12.7)\n",
            "Requirement already satisfied: pycparser in /usr/local/lib/python3.10/dist-packages (from cffi>=1.12->cryptography>=3.3.2->yfinance) (2.21)\n",
            "Looking in indexes: https://pypi.org/simple, https://us-python.pkg.dev/colab-wheels/public/simple/\n",
            "Collecting pyngrok\n",
            "  Downloading pyngrok-6.0.0.tar.gz (681 kB)\n",
            "\u001b[2K     \u001b[90m━━━━━━━━━━━━━━━━━━━━━━━━━━━━━━━━━━━━━━\u001b[0m \u001b[32m681.2/681.2 kB\u001b[0m \u001b[31m11.5 MB/s\u001b[0m eta \u001b[36m0:00:00\u001b[0m\n",
            "\u001b[?25h  Preparing metadata (setup.py) ... \u001b[?25l\u001b[?25hdone\n",
            "Requirement already satisfied: PyYAML in /usr/local/lib/python3.10/dist-packages (from pyngrok) (6.0)\n",
            "Building wheels for collected packages: pyngrok\n",
            "  Building wheel for pyngrok (setup.py) ... \u001b[?25l\u001b[?25hdone\n",
            "  Created wheel for pyngrok: filename=pyngrok-6.0.0-py3-none-any.whl size=19879 sha256=975073fb36e2c1ed948f956ebacfd4af74630b5ca36ebd858aead7716caed3ec\n",
            "  Stored in directory: /root/.cache/pip/wheels/5c/42/78/0c3d438d7f5730451a25f7ac6cbf4391759d22a67576ed7c2c\n",
            "Successfully built pyngrok\n",
            "Installing collected packages: pyngrok\n",
            "Successfully installed pyngrok-6.0.0\n"
          ]
        }
      ],
      "source": [
        "#install required libraries \n",
        "!pip install yfinance\n",
        "!pip install pyngrok"
      ]
    },
    {
      "cell_type": "code",
      "execution_count": null,
      "metadata": {
        "id": "W3wRlKRpkuLj"
      },
      "outputs": [],
      "source": [
        "# import libararies \n",
        "import math\n",
        "import json\n",
        "import yfinance as yf\n",
        "import numpy as np\n",
        "import pandas as pd\n",
        "from sklearn.preprocessing import MinMaxScaler \n",
        "import matplotlib.pyplot as plt\n",
        "import tensorflow as tf\n",
        "from tensorflow import keras\n",
        "from keras import layers\n",
        "from keras.models import Sequential\n",
        "from keras.layers import Dense, LSTM\n",
        "import datetime as dt\n",
        "from datetime import date\n",
        "import getpass\n",
        "from pyngrok import ngrok, conf\n",
        "import os\n",
        "import threading\n",
        "from flask import Flask, jsonify\n",
        "import requests\n",
        "import subprocess\n",
        "\n",
        "# list of stocks to predict\n",
        "stocks = ['AAPL', 'AMZN', 'GOOG', 'MSFT', 'META', 'TSLA', 'DIS','JPM', 'KO', 'GME', 'NVDA', 'AMD', 'INTC', 'FORD']\n",
        "today = date.today()"
      ]
    },
    {
      "cell_type": "markdown",
      "metadata": {
        "id": "E_D8o9JfQxhf"
      },
      "source": [
        "#Data Preprocessing"
      ]
    },
    {
      "cell_type": "code",
      "execution_count": null,
      "metadata": {
        "id": "U7e04b_tw-ls",
        "colab": {
          "base_uri": "https://localhost:8080/"
        },
        "outputId": "1d85544c-c4bd-4021-b715-ec6a2e46dd01"
      },
      "outputs": [
        {
          "output_type": "stream",
          "name": "stdout",
          "text": [
            "[*********************100%***********************]  1 of 1 completed\n",
            "41/41 [==============================] - 16s 194ms/step - loss: 0.0235\n",
            "1/1 [==============================] - 3s 3s/step\n",
            "1/1 [==============================] - 0s 58ms/step\n",
            "1/1 [==============================] - 0s 62ms/step\n",
            "1/1 [==============================] - 0s 62ms/step\n",
            "1/1 [==============================] - 0s 43ms/step\n",
            "1/1 [==============================] - 0s 60ms/step\n",
            "1/1 [==============================] - 0s 56ms/step\n",
            "AAPL\n",
            "[*********************100%***********************]  1 of 1 completed\n",
            "Buy\n",
            "[*********************100%***********************]  1 of 1 completed\n",
            "41/41 [==============================] - 9s 120ms/step - loss: 0.0211\n",
            "1/1 [==============================] - 1s 1s/step\n",
            "1/1 [==============================] - 0s 28ms/step\n",
            "1/1 [==============================] - 0s 30ms/step\n",
            "1/1 [==============================] - 0s 30ms/step\n",
            "1/1 [==============================] - 0s 29ms/step\n",
            "1/1 [==============================] - 0s 28ms/step\n",
            "1/1 [==============================] - 0s 29ms/step\n",
            "AMZN\n",
            "[*********************100%***********************]  1 of 1 completed\n",
            "Sell\n",
            "[*********************100%***********************]  1 of 1 completed\n",
            "41/41 [==============================] - 9s 116ms/step - loss: 0.0119\n",
            "1/1 [==============================] - 1s 778ms/step\n",
            "1/1 [==============================] - 0s 34ms/step\n",
            "1/1 [==============================] - 0s 30ms/step\n",
            "1/1 [==============================] - 0s 29ms/step\n",
            "1/1 [==============================] - 0s 31ms/step\n",
            "1/1 [==============================] - 0s 29ms/step\n",
            "1/1 [==============================] - 0s 31ms/step\n",
            "GOOG\n",
            "[*********************100%***********************]  1 of 1 completed\n",
            "Sell\n",
            "[*********************100%***********************]  1 of 1 completed\n",
            "41/41 [==============================] - 9s 101ms/step - loss: 0.0147\n",
            "1/1 [==============================] - 1s 776ms/step\n",
            "1/1 [==============================] - 0s 29ms/step\n",
            "1/1 [==============================] - 0s 35ms/step\n",
            "1/1 [==============================] - 0s 31ms/step\n",
            "1/1 [==============================] - 0s 31ms/step\n",
            "1/1 [==============================] - 0s 28ms/step\n",
            "1/1 [==============================] - 0s 31ms/step\n",
            "MSFT\n",
            "[*********************100%***********************]  1 of 1 completed\n",
            "Buy\n",
            "[*********************100%***********************]  1 of 1 completed\n",
            "41/41 [==============================] - 9s 101ms/step - loss: 0.0137\n",
            "1/1 [==============================] - 1s 775ms/step\n",
            "1/1 [==============================] - 0s 28ms/step\n",
            "1/1 [==============================] - 0s 35ms/step\n",
            "1/1 [==============================] - 0s 35ms/step\n",
            "1/1 [==============================] - 0s 30ms/step\n",
            "1/1 [==============================] - 0s 29ms/step\n",
            "1/1 [==============================] - 0s 33ms/step\n",
            "META\n",
            "[*********************100%***********************]  1 of 1 completed\n",
            "Buy\n",
            "[*********************100%***********************]  1 of 1 completed\n",
            "41/41 [==============================] - 9s 100ms/step - loss: 0.0109\n",
            "1/1 [==============================] - 1s 775ms/step\n",
            "1/1 [==============================] - 0s 36ms/step\n",
            "1/1 [==============================] - 0s 33ms/step\n",
            "1/1 [==============================] - 0s 33ms/step\n",
            "1/1 [==============================] - 0s 31ms/step\n",
            "1/1 [==============================] - 0s 29ms/step\n",
            "1/1 [==============================] - 0s 36ms/step\n",
            "TSLA\n",
            "[*********************100%***********************]  1 of 1 completed\n",
            "Sell\n",
            "[*********************100%***********************]  1 of 1 completed\n",
            "41/41 [==============================] - 10s 100ms/step - loss: 0.0180\n",
            "1/1 [==============================] - 1s 826ms/step\n",
            "1/1 [==============================] - 0s 32ms/step\n",
            "1/1 [==============================] - 0s 31ms/step\n",
            "1/1 [==============================] - 0s 33ms/step\n",
            "1/1 [==============================] - 0s 30ms/step\n",
            "1/1 [==============================] - 0s 32ms/step\n",
            "1/1 [==============================] - 0s 29ms/step\n",
            "DIS\n",
            "[*********************100%***********************]  1 of 1 completed\n",
            "Sell\n",
            "[*********************100%***********************]  1 of 1 completed\n",
            "41/41 [==============================] - 9s 119ms/step - loss: 0.0163\n",
            "1/1 [==============================] - 1s 768ms/step\n",
            "1/1 [==============================] - 0s 29ms/step\n",
            "1/1 [==============================] - 0s 42ms/step\n",
            "1/1 [==============================] - 0s 35ms/step\n",
            "1/1 [==============================] - 0s 34ms/step\n",
            "1/1 [==============================] - 0s 36ms/step\n",
            "1/1 [==============================] - 0s 31ms/step\n",
            "JPM\n",
            "[*********************100%***********************]  1 of 1 completed\n",
            "Buy\n",
            "[*********************100%***********************]  1 of 1 completed\n",
            "41/41 [==============================] - 9s 102ms/step - loss: 0.0297\n",
            "1/1 [==============================] - 1s 789ms/step\n",
            "1/1 [==============================] - 0s 30ms/step\n",
            "1/1 [==============================] - 0s 30ms/step\n",
            "1/1 [==============================] - 0s 37ms/step\n",
            "1/1 [==============================] - 0s 44ms/step\n",
            "1/1 [==============================] - 0s 33ms/step\n",
            "1/1 [==============================] - 0s 28ms/step\n",
            "KO\n",
            "[*********************100%***********************]  1 of 1 completed\n",
            "Buy\n",
            "[*********************100%***********************]  1 of 1 completed\n",
            "41/41 [==============================] - 9s 103ms/step - loss: 0.0085\n",
            "1/1 [==============================] - 1s 766ms/step\n",
            "1/1 [==============================] - 0s 28ms/step\n",
            "1/1 [==============================] - 0s 28ms/step\n",
            "1/1 [==============================] - 0s 33ms/step\n",
            "1/1 [==============================] - 0s 36ms/step\n",
            "1/1 [==============================] - 0s 33ms/step\n",
            "1/1 [==============================] - 0s 28ms/step\n",
            "GME\n",
            "[*********************100%***********************]  1 of 1 completed\n",
            "Sell\n",
            "[*********************100%***********************]  1 of 1 completed\n",
            "41/41 [==============================] - 9s 103ms/step - loss: 0.0148\n",
            "1/1 [==============================] - 1s 790ms/step\n",
            "1/1 [==============================] - 0s 30ms/step\n",
            "1/1 [==============================] - 0s 29ms/step\n",
            "1/1 [==============================] - 0s 29ms/step\n",
            "1/1 [==============================] - 0s 29ms/step\n",
            "1/1 [==============================] - 0s 32ms/step\n",
            "1/1 [==============================] - 0s 31ms/step\n",
            "NVDA\n",
            "[*********************100%***********************]  1 of 1 completed\n",
            "Buy\n",
            "[*********************100%***********************]  1 of 1 completed\n",
            "41/41 [==============================] - 10s 107ms/step - loss: 0.0152\n",
            "1/1 [==============================] - 1s 813ms/step\n",
            "1/1 [==============================] - 0s 30ms/step\n",
            "1/1 [==============================] - 0s 31ms/step\n",
            "1/1 [==============================] - 0s 34ms/step\n",
            "1/1 [==============================] - 0s 29ms/step\n",
            "1/1 [==============================] - 0s 33ms/step\n",
            "1/1 [==============================] - 0s 43ms/step\n",
            "AMD\n",
            "[*********************100%***********************]  1 of 1 completed\n",
            "Buy\n",
            "[*********************100%***********************]  1 of 1 completed\n",
            "41/41 [==============================] - 8s 103ms/step - loss: 0.0224\n",
            "1/1 [==============================] - 1s 764ms/step\n",
            "1/1 [==============================] - 0s 30ms/step\n",
            "1/1 [==============================] - 0s 29ms/step\n",
            "1/1 [==============================] - 0s 31ms/step\n",
            "1/1 [==============================] - 0s 29ms/step\n",
            "1/1 [==============================] - 0s 32ms/step\n",
            "1/1 [==============================] - 0s 31ms/step\n",
            "INTC\n",
            "[*********************100%***********************]  1 of 1 completed\n",
            "Sell\n",
            "[*********************100%***********************]  1 of 1 completed\n",
            "41/41 [==============================] - 9s 101ms/step - loss: 0.0049\n",
            "1/1 [==============================] - 1s 782ms/step\n",
            "1/1 [==============================] - 0s 32ms/step\n",
            "1/1 [==============================] - 0s 29ms/step\n",
            "1/1 [==============================] - 0s 36ms/step\n",
            "1/1 [==============================] - 0s 29ms/step\n",
            "1/1 [==============================] - 0s 33ms/step\n",
            "1/1 [==============================] - 0s 35ms/step\n",
            "FORD\n",
            "[*********************100%***********************]  1 of 1 completed\n",
            "Sell\n"
          ]
        }
      ],
      "source": [
        "\n",
        "# Create an empty dictionary to store prediction values and stock signals\n",
        "predictions = {}\n",
        "signals = {}\n",
        "\n",
        "# loop for getting predition of each stock\n",
        "for stock in stocks:\n",
        "    # download stock data from Yahoo Finance API\n",
        "    stock_data = yf.download(stock, start='2018-01-01', end=today)\n",
        "    \n",
        "    # extract closing prices\n",
        "    closing_Arr = stock_data['Close']\n",
        "    closing_Price = closing_Arr.values\n",
        "\n",
        "    # Scale the data\n",
        "    scaler = MinMaxScaler(feature_range=(0,1))\n",
        "    scaled_prices = scaler.fit_transform(closing_Price.reshape(-1,1))\n",
        "\n",
        "    # Create sequences of length 60\n",
        "    seq_length = 60\n",
        "    X = []\n",
        "    y = []\n",
        "    for i in range(seq_length, len(scaled_prices)):\n",
        "        X.append(scaled_prices[i-seq_length:i, 0])\n",
        "        y.append(scaled_prices[i, 0])\n",
        "\n",
        "    X = np.array(X)\n",
        "    y = np.array(y)\n",
        "\n",
        "    # Reshape the input data for LSTM\n",
        "    X = np.reshape(X, (X.shape[0], X.shape[1], 1))\n",
        "    \n",
        "    # Define the LSTM model\n",
        "    model = Sequential()\n",
        "    model.add(LSTM(units=100, return_sequences=True, input_shape=(X.shape[1], 1)))\n",
        "    model.add(LSTM(units=100))\n",
        "    model.add(Dense(units=25))\n",
        "    model.add(Dense(units=1))\n",
        "\n",
        "    # Compile the model\n",
        "    model.compile(optimizer='adam', loss='mean_squared_error')\n",
        "\n",
        "    # Train the model\n",
        "    model.fit(X, y, epochs=1, batch_size=32)\n",
        "\n",
        "    # Use the model to make predictions for the next 7 days\n",
        "    next_days = []\n",
        "    for i in range(7):\n",
        "        last_seq = closing_Price.reshape(-1,1)[-seq_length:]\n",
        "        last_seq_scaled = scaler.transform(last_seq)\n",
        "        next_day_scaled = model.predict(np.array([last_seq_scaled]))\n",
        "        next_day = scaler.inverse_transform(next_day_scaled)[0][0]\n",
        "        next_days.append(next_day)\n",
        "        closing_Price = np.append(closing_Price.reshape(-1,1), [[next_day]], axis=0)\n",
        "        \n",
        "    dates_stock = closing_Arr.index\n",
        "    last_date = dates_stock[-1]\n",
        "\n",
        "    # get the last date in the index\n",
        "    last_date = closing_Arr.index[-1]\n",
        "\n",
        "    # create an array of the next 8 days (-1) =7\n",
        "    date_range = pd.date_range(last_date, periods=8, freq='B')\n",
        "    \n",
        "    #removing the first day as thats today`s closing price -1\n",
        "    date_range = date_range[1:]\n",
        "\n",
        "    # convert the array to a numpy array\n",
        "    date_range_array = np.array(date_range)\n",
        "\n",
        "    Dates = np.concatenate([dates_stock, date_range_array])\n",
        "    # Convert the dates to strings in the format 'YYYY-MM-DD'\n",
        "    Dates = Dates.astype('datetime64[D]').astype(str)\n",
        "\n",
        "    # Add the predicted closing prices and dates to the dictionary\n",
        "    predictions[stock] = {'Dates': Dates, 'close': closing_Price.tolist()} \n",
        "    print(stock)\n",
        "\n",
        "    # NEW \n",
        "    #calculate the buy/sell signal\n",
        "    stock_data = yf.download(stock, period='1y')\n",
        "    \n",
        "    # Calculate the 50-day and 200-day moving averages\n",
        "    stock_data['MA50'] = stock_data['Close'].rolling(window=50).mean()\n",
        "    stock_data['MA200'] = stock_data['Close'].rolling(window=200).mean()\n",
        "    \n",
        "    # Calculate the difference between the 50-day and 200-day moving averages\n",
        "    stock_data['MA_diff'] = stock_data['MA50'] - stock_data['MA200']\n",
        "    \n",
        "    # Add a 'Signal' column indicating whether to buy or sell\n",
        "    stock_data['Signal'] = 'Hold'\n",
        "    stock_data.loc[stock_data['MA_diff'] > 0, 'Signal'] = 'Buy'\n",
        "    stock_data.loc[stock_data['MA_diff'] < 0, 'Signal'] = 'Sell'\n",
        "    \n",
        "    # Print the latest signal\n",
        "    latest_signal = stock_data.iloc[-1]['Signal']\n",
        "    \n",
        "    # Add the stock signal to the signals dictionary\n",
        "    signals[stock] = latest_signal\n",
        "    print(latest_signal)"
      ]
    },
    {
      "cell_type": "markdown",
      "metadata": {
        "id": "u5nJ0fHFRWXV"
      },
      "source": [
        "#pyngrok"
      ]
    },
    {
      "cell_type": "code",
      "execution_count": null,
      "metadata": {
        "id": "s7ZW7g9oy0wE",
        "colab": {
          "base_uri": "https://localhost:8080/"
        },
        "outputId": "e3aa0ff2-cd3d-431e-ca33-88221902162c"
      },
      "outputs": [
        {
          "output_type": "stream",
          "name": "stdout",
          "text": [
            "Enter your authtoken, which can be copied from https://dashboard.ngrok.com/auth\n"
          ]
        },
        {
          "output_type": "stream",
          "name": "stderr",
          "text": [
            "WARNING:pyngrok.process.ngrok:t=2023-05-02T21:17:44+0000 lvl=warn msg=\"ngrok config file found at legacy location, move to XDG location\" xdg_path=/root/.config/ngrok/ngrok.yml legacy_path=/root/.ngrok2/ngrok.yml\n"
          ]
        },
        {
          "output_type": "stream",
          "name": "stdout",
          "text": [
            " * ngrok tunnel available, access with `ssh root@2.tcp.ngrok.io -p19866`\n"
          ]
        }
      ],
      "source": [
        "#pyngrok to open a tunnel to that server.\n",
        "print(\"Enter your authtoken, which can be copied from https://dashboard.ngrok.com/auth\")\n",
        "authtoken= \"\"\n",
        "conf.get_default().auth_token = authtoken\n",
        "\n",
        "# Open a TCP ngrok tunnel to the SSH server\n",
        "connection_string = ngrok.connect(22, \"tcp\").public_url\n",
        "\n",
        "ssh_url, port = connection_string.strip(\"tcp://\").split(\":\")\n",
        "print(f\" * ngrok tunnel available, access with `ssh root@{ssh_url} -p{port}`\")"
      ]
    },
    {
      "cell_type": "markdown",
      "metadata": {
        "id": "7MihT_YlRcRw"
      },
      "source": [
        "#Flask"
      ]
    },
    {
      "cell_type": "code",
      "execution_count": null,
      "metadata": {
        "id": "48O4RkYkYKl_",
        "colab": {
          "base_uri": "https://localhost:8080/"
        },
        "outputId": "46861cdb-12bb-4088-df94-a6cb982e96ac"
      },
      "outputs": [
        {
          "output_type": "stream",
          "name": "stdout",
          "text": [
            " * ngrok tunnel \"https://pricevision.ngrok.io\" -> \"http://127.0.0.1:5000\"\n"
          ]
        },
        {
          "output_type": "stream",
          "name": "stderr",
          "text": [
            "'FLASK_ENV' is deprecated and will not be used in Flask 2.3. Use 'FLASK_DEBUG' instead.\n"
          ]
        },
        {
          "output_type": "stream",
          "name": "stdout",
          "text": [
            " * Serving Flask app '__main__'\n"
          ]
        },
        {
          "output_type": "stream",
          "name": "stderr",
          "text": [
            "'FLASK_ENV' is deprecated and will not be used in Flask 2.3. Use 'FLASK_DEBUG' instead.\n",
            "'FLASK_ENV' is deprecated and will not be used in Flask 2.3. Use 'FLASK_DEBUG' instead.\n"
          ]
        }
      ],
      "source": [
        "#Flask app\n",
        "os.environ[\"FLASK_ENV\"] = \"development\"\n",
        "\n",
        "app = Flask(__name__)\n",
        "port = 5000\n",
        "\n",
        "# Open a ngrok tunnel to the HTTP server\n",
        "public_url = ngrok.connect(port,subdomain=\"pricevision\").public_url\n",
        "print(\" * ngrok tunnel \\\"{}\\\" -> \\\"http://127.0.0.1:{}\\\"\".format(public_url, port))\n",
        "\n",
        "# Update any base URLs to use the public ngrok URL\n",
        "app.config[\"BASE_URL\"] = public_url\n",
        "\n",
        "# ... Update inbound traffic via APIs to use the public-facing ngrok URL\n",
        "\n",
        "@app.route(\"/\")\n",
        "def index():\n",
        "    # Return a list of available stock symbols\n",
        "    return \"Disclaimer: The predictions provided are for informational purposes only and should not be considered as financial advice. We are not responsible for any financial investment losses. \\n\\nAvailable stocks: \" + \", \".join(predictions.keys())\n",
        "\n",
        "  # return api root url / stock symbol to get specific stock data\n",
        "@app.route(\"/<string:symbol>\")\n",
        "def get_stock(symbol):\n",
        "    if symbol in predictions:\n",
        "        data = []\n",
        "        dates = predictions[symbol]['Dates'][-8:]\n",
        "        prices = predictions[symbol]['close'][-8:]\n",
        "        for i in range(len(dates)):\n",
        "            data.append({\n",
        "                \"date\": dates[i],\n",
        "                \"price\": prices[i][0]\n",
        "            })\n",
        "        # Convert the list of dictionaries to JSON format\n",
        "        json_data = json.dumps(data, default=str, indent=4)\n",
        "        print(json_data)\n",
        "\n",
        "        # Create a Flask response with the JSON data and CORS headers\n",
        "        response = jsonify(data)\n",
        "        response.headers.add('Access-Control-Allow-Origin', '*')\n",
        "       #return json_data\n",
        "        return response\n",
        "\n",
        "    else:\n",
        "        return \"Invalid stock symbol\"\n",
        "\n",
        "# Define the route to return the stock signals\n",
        "@app.route(\"/<string:symbol>/signal\")\n",
        "def get_stock_signal(symbol):\n",
        "    if symbol in signals:\n",
        "        data = {\n",
        "            \"symbol\": symbol,\n",
        "            \"signal\": signals[symbol]\n",
        "        }\n",
        "        # Create a Flask response with the JSON data and CORS headers\n",
        "        response = jsonify(data)\n",
        "        response.headers.add('Access-Control-Allow-Origin', '*')\n",
        "        return response\n",
        "    else:\n",
        "        return \"Invalid stock symbol\"\n",
        "\n",
        "# Start the Flask server in a new thread\n",
        "threading.Thread(target=app.run, kwargs={\"use_reloader\": False}).start()\n"
      ]
    },
    {
      "cell_type": "markdown",
      "metadata": {
        "id": "zRXV4_cJ3-00"
      },
      "source": [
        "# disconnect and kill the ngrok and flask\n",
        "ngrok.disconnect(public_url)\n",
        "ngrok.kill()"
      ]
    },
    {
      "cell_type": "markdown",
      "metadata": {
        "id": "DGw1l0aDZqt5"
      },
      "source": [
        "#END"
      ]
    }
  ],
  "metadata": {
    "colab": {
      "provenance": []
    },
    "kernelspec": {
      "display_name": "Python 3",
      "name": "python3"
    },
    "language_info": {
      "name": "python"
    }
  },
  "nbformat": 4,
  "nbformat_minor": 0
}