{
  "nbformat": 4,
  "nbformat_minor": 0,
  "metadata": {
    "colab": {
      "provenance": []
    },
    "kernelspec": {
      "name": "python3",
      "display_name": "Python 3"
    },
    "language_info": {
      "name": "python"
    }
  },
  "cells": [
    {
      "cell_type": "markdown",
      "source": [
        "#LSTM stock price prediction"
      ],
      "metadata": {
        "id": "jGmEtZMqH0hn"
      }
    },
    {
      "cell_type": "code",
      "source": [
        "#install required libraries \n",
        "!pip install yfinance\n",
        "!pip install pyngrok"
      ],
      "metadata": {
        "colab": {
          "base_uri": "https://localhost:8080/"
        },
        "id": "LFBMHyJn_0z7",
        "outputId": "2b584cdc-0dd9-4db3-c59d-83e814cbac11"
      },
      "execution_count": 3,
      "outputs": [
        {
          "output_type": "stream",
          "name": "stdout",
          "text": [
            "Looking in indexes: https://pypi.org/simple, https://us-python.pkg.dev/colab-wheels/public/simple/\n",
            "Requirement already satisfied: yfinance in /usr/local/lib/python3.9/dist-packages (0.2.14)\n",
            "Requirement already satisfied: pytz>=2022.5 in /usr/local/lib/python3.9/dist-packages (from yfinance) (2022.7.1)\n",
            "Requirement already satisfied: lxml>=4.9.1 in /usr/local/lib/python3.9/dist-packages (from yfinance) (4.9.2)\n",
            "Requirement already satisfied: requests>=2.26 in /usr/local/lib/python3.9/dist-packages (from yfinance) (2.27.1)\n",
            "Requirement already satisfied: appdirs>=1.4.4 in /usr/local/lib/python3.9/dist-packages (from yfinance) (1.4.4)\n",
            "Requirement already satisfied: html5lib>=1.1 in /usr/local/lib/python3.9/dist-packages (from yfinance) (1.1)\n",
            "Requirement already satisfied: pandas>=1.3.0 in /usr/local/lib/python3.9/dist-packages (from yfinance) (1.4.4)\n",
            "Requirement already satisfied: beautifulsoup4>=4.11.1 in /usr/local/lib/python3.9/dist-packages (from yfinance) (4.11.2)\n",
            "Requirement already satisfied: cryptography>=3.3.2 in /usr/local/lib/python3.9/dist-packages (from yfinance) (40.0.1)\n",
            "Requirement already satisfied: multitasking>=0.0.7 in /usr/local/lib/python3.9/dist-packages (from yfinance) (0.0.11)\n",
            "Requirement already satisfied: numpy>=1.16.5 in /usr/local/lib/python3.9/dist-packages (from yfinance) (1.22.4)\n",
            "Requirement already satisfied: frozendict>=2.3.4 in /usr/local/lib/python3.9/dist-packages (from yfinance) (2.3.6)\n",
            "Requirement already satisfied: soupsieve>1.2 in /usr/local/lib/python3.9/dist-packages (from beautifulsoup4>=4.11.1->yfinance) (2.4)\n",
            "Requirement already satisfied: cffi>=1.12 in /usr/local/lib/python3.9/dist-packages (from cryptography>=3.3.2->yfinance) (1.15.1)\n",
            "Requirement already satisfied: webencodings in /usr/local/lib/python3.9/dist-packages (from html5lib>=1.1->yfinance) (0.5.1)\n",
            "Requirement already satisfied: six>=1.9 in /usr/local/lib/python3.9/dist-packages (from html5lib>=1.1->yfinance) (1.16.0)\n",
            "Requirement already satisfied: python-dateutil>=2.8.1 in /usr/local/lib/python3.9/dist-packages (from pandas>=1.3.0->yfinance) (2.8.2)\n",
            "Requirement already satisfied: urllib3<1.27,>=1.21.1 in /usr/local/lib/python3.9/dist-packages (from requests>=2.26->yfinance) (1.26.15)\n",
            "Requirement already satisfied: certifi>=2017.4.17 in /usr/local/lib/python3.9/dist-packages (from requests>=2.26->yfinance) (2022.12.7)\n",
            "Requirement already satisfied: charset-normalizer~=2.0.0 in /usr/local/lib/python3.9/dist-packages (from requests>=2.26->yfinance) (2.0.12)\n",
            "Requirement already satisfied: idna<4,>=2.5 in /usr/local/lib/python3.9/dist-packages (from requests>=2.26->yfinance) (3.4)\n",
            "Requirement already satisfied: pycparser in /usr/local/lib/python3.9/dist-packages (from cffi>=1.12->cryptography>=3.3.2->yfinance) (2.21)\n",
            "Looking in indexes: https://pypi.org/simple, https://us-python.pkg.dev/colab-wheels/public/simple/\n",
            "Requirement already satisfied: pyngrok in /usr/local/lib/python3.9/dist-packages (5.2.1)\n",
            "Requirement already satisfied: PyYAML in /usr/local/lib/python3.9/dist-packages (from pyngrok) (6.0)\n"
          ]
        }
      ]
    },
    {
      "cell_type": "code",
      "source": [
        "# import libararies \n",
        "import math\n",
        "import json\n",
        "import yfinance as yf\n",
        "import numpy as np\n",
        "import pandas as pd\n",
        "from sklearn.preprocessing import MinMaxScaler \n",
        "import matplotlib.pyplot as plt\n",
        "import tensorflow as tf\n",
        "from tensorflow import keras\n",
        "from keras import layers\n",
        "from keras.models import Sequential\n",
        "from keras.layers import Dense, LSTM\n",
        "import datetime as dt\n",
        "from datetime import date\n",
        "import getpass\n",
        "from pyngrok import ngrok, conf\n",
        "import os\n",
        "import threading\n",
        "from flask import Flask\n",
        "\n",
        "# list of stocks to predict\n",
        "stocks = ['AAPL', 'AMZN', 'GOOG', 'MSFT', 'META', 'TSLA', 'BRK-B', 'DIS','BTC-USD', 'ETH-USD']\n",
        "today = date.today()"
      ],
      "metadata": {
        "id": "W3wRlKRpkuLj"
      },
      "execution_count": 4,
      "outputs": []
    },
    {
      "cell_type": "markdown",
      "source": [
        "#Data Preprocessing"
      ],
      "metadata": {
        "id": "E_D8o9JfQxhf"
      }
    },
    {
      "cell_type": "code",
      "source": [
        "\n",
        "# dictionary to store prediction values\n",
        "predictions = {}\n",
        "\n",
        "# loop for getting predition of each stock\n",
        "for stock in stocks:\n",
        "    # download stock data from Yahoo Finance API\n",
        "    stock_data = yf.download(stock, start='2020-01-01', end=today)\n",
        "    \n",
        "    # extract closing prices\n",
        "    closing_Arr = stock_data['Close']\n",
        "    closing_Price = closing_Arr.values\n",
        "\n",
        "    # Scale the data\n",
        "    scaler = MinMaxScaler(feature_range=(0,1))\n",
        "    scaled_prices = scaler.fit_transform(closing_Price.reshape(-1,1))\n",
        "\n",
        "    # Create sequences of length 60\n",
        "    seq_length = 60\n",
        "    X = []\n",
        "    y = []\n",
        "    for i in range(seq_length, len(scaled_prices)):\n",
        "        X.append(scaled_prices[i-seq_length:i, 0])\n",
        "        y.append(scaled_prices[i, 0])\n",
        "\n",
        "    X = np.array(X)\n",
        "    y = np.array(y)\n",
        "\n",
        "    # Reshape the input data for LSTM\n",
        "    X = np.reshape(X, (X.shape[0], X.shape[1], 1))\n",
        "    # Define the LSTM model\n",
        "    model = Sequential()\n",
        "    model.add(LSTM(units=100, return_sequences=True, input_shape=(X.shape[1], 1)))\n",
        "    model.add(LSTM(units=100))\n",
        "    model.add(Dense(units=25))\n",
        "    model.add(Dense(units=1))\n",
        "\n",
        "    # Compile the model\n",
        "    model.compile(optimizer='adam', loss='mean_squared_error')\n",
        "\n",
        "    # Train the model\n",
        "    model.fit(X, y, epochs=1, batch_size=32)\n",
        "\n",
        "    # Use the model to make predictions for the next 7 days\n",
        "    next_days = []\n",
        "    for i in range(7):\n",
        "        last_seq = closing_Price.reshape(-1,1)[-seq_length:]\n",
        "        last_seq_scaled = scaler.transform(last_seq)\n",
        "        next_day_scaled = model.predict(np.array([last_seq_scaled]))\n",
        "        next_day = scaler.inverse_transform(next_day_scaled)[0][0]\n",
        "        next_days.append(next_day)\n",
        "        closing_Price = np.append(closing_Price.reshape(-1,1), [[next_day]], axis=0)\n",
        "        \n",
        "    dates_stock = closing_Arr.index\n",
        "    last_date = dates_stock[-1]\n",
        "\n",
        "    # get the last date in the index\n",
        "    last_date = closing_Arr.index[-1]\n",
        "\n",
        "    # create an array of the next 8 days (-1) =7\n",
        "    date_range = pd.date_range(last_date, periods=8, freq='D')\n",
        "    \n",
        "    #removing the first day as thats today`s closing price -1\n",
        "    date_range = date_range[1:]\n",
        "\n",
        "    # convert the array to a numpy array\n",
        "    date_range_array = np.array(date_range)\n",
        "\n",
        "    Dates = np.concatenate([dates_stock, date_range_array])\n",
        "    # Convert the dates to strings in the format 'YYYY-MM-DD'\n",
        "    Dates = Dates.astype('datetime64[D]').astype(str)\n",
        "\n",
        "    # Add the predicted closing prices and dates to the dictionary\n",
        "    predictions[stock] = {'Dates': Dates, 'close': closing_Price.tolist()} \n",
        "    print(stock)"
      ],
      "metadata": {
        "colab": {
          "base_uri": "https://localhost:8080/"
        },
        "id": "U7e04b_tw-ls",
        "outputId": "8ac86543-42f4-43b7-c5d5-921ffa5ff069"
      },
      "execution_count": 5,
      "outputs": [
        {
          "output_type": "stream",
          "name": "stdout",
          "text": [
            "[*********************100%***********************]  1 of 1 completed\n",
            "24/24 [==============================] - 15s 214ms/step - loss: 0.0534\n",
            "1/1 [==============================] - 3s 3s/step\n",
            "1/1 [==============================] - 0s 94ms/step\n",
            "1/1 [==============================] - 0s 129ms/step\n",
            "1/1 [==============================] - 0s 198ms/step\n",
            "1/1 [==============================] - 0s 65ms/step\n",
            "1/1 [==============================] - 0s 52ms/step\n",
            "1/1 [==============================] - 0s 86ms/step\n",
            "AAPL\n",
            "[*********************100%***********************]  1 of 1 completed\n",
            "24/24 [==============================] - 8s 108ms/step - loss: 0.0372\n",
            "1/1 [==============================] - 1s 814ms/step\n",
            "1/1 [==============================] - 0s 31ms/step\n",
            "1/1 [==============================] - 0s 36ms/step\n",
            "1/1 [==============================] - 0s 41ms/step\n",
            "1/1 [==============================] - 0s 35ms/step\n",
            "1/1 [==============================] - 0s 31ms/step\n",
            "1/1 [==============================] - 0s 35ms/step\n",
            "AMZN\n",
            "[*********************100%***********************]  1 of 1 completed\n",
            "24/24 [==============================] - 7s 108ms/step - loss: 0.0464\n",
            "1/1 [==============================] - 1s 1s/step\n",
            "1/1 [==============================] - 0s 50ms/step\n",
            "1/1 [==============================] - 0s 42ms/step\n",
            "1/1 [==============================] - 0s 43ms/step\n",
            "1/1 [==============================] - 0s 45ms/step\n",
            "1/1 [==============================] - 0s 42ms/step\n",
            "1/1 [==============================] - 0s 55ms/step\n",
            "GOOG\n",
            "[*********************100%***********************]  1 of 1 completed\n",
            "24/24 [==============================] - 7s 110ms/step - loss: 0.0436\n",
            "1/1 [==============================] - 1s 841ms/step\n",
            "1/1 [==============================] - 0s 31ms/step\n",
            "1/1 [==============================] - 0s 38ms/step\n",
            "1/1 [==============================] - 0s 32ms/step\n",
            "1/1 [==============================] - 0s 38ms/step\n",
            "1/1 [==============================] - 0s 36ms/step\n",
            "1/1 [==============================] - 0s 32ms/step\n",
            "MSFT\n",
            "[*********************100%***********************]  1 of 1 completed\n",
            "24/24 [==============================] - 8s 109ms/step - loss: 0.0417\n",
            "1/1 [==============================] - 1s 886ms/step\n",
            "1/1 [==============================] - 0s 34ms/step\n",
            "1/1 [==============================] - 0s 32ms/step\n",
            "1/1 [==============================] - 0s 31ms/step\n",
            "1/1 [==============================] - 0s 30ms/step\n",
            "1/1 [==============================] - 0s 36ms/step\n",
            "1/1 [==============================] - 0s 29ms/step\n",
            "META\n",
            "[*********************100%***********************]  1 of 1 completed\n",
            "24/24 [==============================] - 7s 106ms/step - loss: 0.0269\n",
            "1/1 [==============================] - 1s 832ms/step\n",
            "1/1 [==============================] - 0s 32ms/step\n",
            "1/1 [==============================] - 0s 40ms/step\n",
            "1/1 [==============================] - 0s 31ms/step\n",
            "1/1 [==============================] - 0s 29ms/step\n",
            "1/1 [==============================] - 0s 28ms/step\n",
            "1/1 [==============================] - 0s 29ms/step\n",
            "TSLA\n",
            "[*********************100%***********************]  1 of 1 completed\n",
            "24/24 [==============================] - 9s 115ms/step - loss: 0.0422\n",
            "1/1 [==============================] - 1s 807ms/step\n",
            "1/1 [==============================] - 0s 32ms/step\n",
            "1/1 [==============================] - 0s 30ms/step\n",
            "1/1 [==============================] - 0s 40ms/step\n",
            "1/1 [==============================] - 0s 30ms/step\n",
            "1/1 [==============================] - 0s 34ms/step\n",
            "1/1 [==============================] - 0s 31ms/step\n",
            "BRK-B\n",
            "[*********************100%***********************]  1 of 1 completed\n",
            "24/24 [==============================] - 8s 120ms/step - loss: 0.0363\n",
            "1/1 [==============================] - 1s 799ms/step\n",
            "1/1 [==============================] - 0s 38ms/step\n",
            "1/1 [==============================] - 0s 32ms/step\n",
            "1/1 [==============================] - 0s 30ms/step\n",
            "1/1 [==============================] - 0s 38ms/step\n",
            "1/1 [==============================] - 0s 31ms/step\n",
            "1/1 [==============================] - 0s 31ms/step\n",
            "DIS\n",
            "[*********************100%***********************]  1 of 1 completed\n",
            "36/36 [==============================] - 10s 140ms/step - loss: 0.0170\n",
            "1/1 [==============================] - 1s 821ms/step\n",
            "1/1 [==============================] - 0s 34ms/step\n",
            "1/1 [==============================] - 0s 32ms/step\n",
            "1/1 [==============================] - 0s 44ms/step\n",
            "1/1 [==============================] - 0s 31ms/step\n",
            "1/1 [==============================] - 0s 31ms/step\n",
            "1/1 [==============================] - 0s 42ms/step\n",
            "BTC-USD\n",
            "[*********************100%***********************]  1 of 1 completed\n",
            "36/36 [==============================] - 9s 108ms/step - loss: 0.0137\n",
            "1/1 [==============================] - 1s 849ms/step\n",
            "1/1 [==============================] - 0s 32ms/step\n",
            "1/1 [==============================] - 0s 38ms/step\n",
            "1/1 [==============================] - 0s 30ms/step\n",
            "1/1 [==============================] - 0s 34ms/step\n",
            "1/1 [==============================] - 0s 40ms/step\n",
            "1/1 [==============================] - 0s 35ms/step\n",
            "ETH-USD\n"
          ]
        }
      ]
    },
    {
      "cell_type": "markdown",
      "source": [
        "#pyngrok"
      ],
      "metadata": {
        "id": "u5nJ0fHFRWXV"
      }
    },
    {
      "cell_type": "code",
      "source": [
        "#pyngrok to open a tunnel to that server.\n",
        "print(\"Enter your authtoken, which can be copied from https://dashboard.ngrok.com/auth\")\n",
        "conf.get_default().auth_token = getpass.getpass()\n",
        "\n",
        "# Open a TCP ngrok tunnel to the SSH server\n",
        "connection_string = ngrok.connect(22, \"tcp\").public_url\n",
        "\n",
        "ssh_url, port = connection_string.strip(\"tcp://\").split(\":\")\n",
        "print(f\" * ngrok tunnel available, access with `ssh root@{ssh_url} -p{port}`\")"
      ],
      "metadata": {
        "colab": {
          "base_uri": "https://localhost:8080/"
        },
        "id": "s7ZW7g9oy0wE",
        "outputId": "bbcb6983-71fb-4052-a357-12e1479cc95d"
      },
      "execution_count": 6,
      "outputs": [
        {
          "output_type": "stream",
          "name": "stdout",
          "text": [
            "Enter your authtoken, which can be copied from https://dashboard.ngrok.com/auth\n",
            "··········\n",
            " * ngrok tunnel available, access with `ssh root@8.tcp.ngrok.io -p19578`\n"
          ]
        }
      ]
    },
    {
      "cell_type": "markdown",
      "source": [
        "#Flask"
      ],
      "metadata": {
        "id": "7MihT_YlRcRw"
      }
    },
    {
      "cell_type": "code",
      "source": [
        "#Flask app\n",
        "os.environ[\"FLASK_ENV\"] = \"development\"\n",
        "\n",
        "app = Flask(__name__)\n",
        "port = 5000\n",
        "\n",
        "# Open a ngrok tunnel to the HTTP server\n",
        "public_url = ngrok.connect(port).public_url\n",
        "print(\" * ngrok tunnel \\\"{}\\\" -> \\\"http://127.0.0.1:{}\\\"\".format(public_url, port))\n",
        "\n",
        "# Update any base URLs to use the public ngrok URL\n",
        "app.config[\"BASE_URL\"] = public_url\n",
        "\n",
        "# ... Update inbound traffic via APIs to use the public-facing ngrok URL\n",
        "\n",
        "@app.route(\"/\")\n",
        "def index():\n",
        "    # Return a list of available stock symbols\n",
        "    return \"Available stocks: \" + \", \".join(predictions.keys())\n",
        "\n",
        "  # return api root url / stock symbol to get specific stock data\n",
        "@app.route(\"/<string:symbol>\")\n",
        "def get_stock(symbol):\n",
        "    if symbol in predictions:\n",
        "        data = []\n",
        "        dates = predictions[symbol]['Dates'][-7:]\n",
        "        prices = predictions[symbol]['close'][-7:]\n",
        "        for i in range(len(dates)):\n",
        "            data.append({\n",
        "                \"date\": dates[i],\n",
        "                \"price\": prices[i][0]\n",
        "            })\n",
        "        # Convert the list of dictionaries to JSON format\n",
        "        json_data = json.dumps(data, default=str, indent=4)\n",
        "        print(json_data)\n",
        "        return json_data\n",
        "    else:\n",
        "        return \"Invalid stock symbol\"\n",
        "\n",
        "# Start the Flask server in a new thread\n",
        "threading.Thread(target=app.run, kwargs={\"use_reloader\": False}).start()\n"
      ],
      "metadata": {
        "colab": {
          "base_uri": "https://localhost:8080/"
        },
        "id": "48O4RkYkYKl_",
        "outputId": "efb362e5-210c-4ab1-c083-756679a448ba"
      },
      "execution_count": 7,
      "outputs": [
        {
          "output_type": "stream",
          "name": "stderr",
          "text": [
            "'FLASK_ENV' is deprecated and will not be used in Flask 2.3. Use 'FLASK_DEBUG' instead.\n"
          ]
        },
        {
          "output_type": "stream",
          "name": "stdout",
          "text": [
            " * ngrok tunnel \"http://9924-35-233-187-125.ngrok.io\" -> \"http://127.0.0.1:5000\"\n"
          ]
        }
      ]
    },
    {
      "cell_type": "code",
      "source": [
        "# disconnect and kill the ngrok and flask\n",
        "ngrok.disconnect(public_url)\n",
        "ngrok.kill()"
      ],
      "metadata": {
        "id": "H8LaIU0b0ydf"
      },
      "execution_count": null,
      "outputs": []
    },
    {
      "cell_type": "markdown",
      "source": [
        "#END"
      ],
      "metadata": {
        "id": "DGw1l0aDZqt5"
      }
    }
  ]
}